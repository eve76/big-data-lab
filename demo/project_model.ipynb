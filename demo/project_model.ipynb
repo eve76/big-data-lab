{
 "cells": [
  {
   "cell_type": "code",
   "execution_count": 2,
   "metadata": {},
   "outputs": [],
   "source": [
    "import pandas as pd \n",
    "import numpy as np \n",
    "import pickle\n",
    "import matplotlib.pyplot as plt \n",
    "from sklearn.model_selection import train_test_split\n",
    "from sklearn.metrics import accuracy_score, classification_report, confusion_matrix\n",
    "from sklearn.feature_extraction.text import CountVectorizer, TfidfVectorizer\n",
    "from sklearn.metrics import roc_curve, auc\n",
    "from sklearn.svm import LinearSVC\n",
    "from sklearn.svm import SVC\n",
    "from textblob import TextBlob\n",
    "\n",
    "\n"
   ]
  },
  {
   "cell_type": "code",
   "execution_count": 4,
   "metadata": {},
   "outputs": [],
   "source": [
    "data = pd.read_csv('big-data-lab-main\\\\final_raw.csv')\n",
    "data.drop(columns=['Unnamed: 0'], inplace = True)"
   ]
  },
  {
   "cell_type": "code",
   "execution_count": 5,
   "metadata": {},
   "outputs": [],
   "source": [
    "data.loc[data['score'] < 3, 'score'] = -1\n",
    "data.loc[data['score'] == 3, 'score'] = 0\n",
    "data.loc[data['score'] > 3, 'score'] = 1"
   ]
  },
  {
   "cell_type": "code",
   "execution_count": 6,
   "metadata": {},
   "outputs": [],
   "source": [
    "data_p = pd.DataFrame(columns=['text','score'])\n",
    "data_n = pd.DataFrame(columns=['text','score'])\n",
    "data_m = pd.DataFrame(columns=['text','score'])\n",
    "data_p = data.loc[data['score'] == 1]\n",
    "data_n = data.loc[data['score'] == -1]\n",
    "data_m = data.loc[data['score'] == 0]"
   ]
  },
  {
   "cell_type": "code",
   "execution_count": 40,
   "metadata": {},
   "outputs": [],
   "source": [
    "# small_data = pd.DataFrame(columns=['text', 'score'])\n",
    "# small_data = pd.concat([data_p[:1600],data_m[:1600],data_n[:1600]],ignore_index=True,axis=0, verify_integrity=True )"
   ]
  },
  {
   "cell_type": "code",
   "execution_count": 9,
   "metadata": {},
   "outputs": [],
   "source": [
    "trainset = pd.DataFrame(columns=['text', 'score'])\n",
    "trainset = pd.concat([data_p[:100000],data_m[:100000],data_n[:100000]],ignore_index=True,axis=0, verify_integrity=True )\n",
    "testset = pd.DataFrame(columns=['text','score'])\n",
    "testset = pd.concat([data_p[100000:],data_m[100000:],data_n[100000:]],ignore_index=True,axis=0, verify_integrity=True)"
   ]
  },
  {
   "cell_type": "code",
   "execution_count": 10,
   "metadata": {},
   "outputs": [],
   "source": [
    "trainset.to_csv('trainset.csv')\n",
    "testset.to_csv('testset.csv')"
   ]
  },
  {
   "cell_type": "code",
   "execution_count": 3,
   "metadata": {},
   "outputs": [],
   "source": [
    "trainset = pd.read_csv('trainset.csv')\n",
    "testset = pd.read_csv('testset.csv')"
   ]
  },
  {
   "cell_type": "code",
   "execution_count": 4,
   "metadata": {},
   "outputs": [],
   "source": [
    "trainset.drop(columns=['Unnamed: 0'], inplace = True)\n",
    "testset.drop(columns=['Unnamed: 0'], inplace = True)"
   ]
  },
  {
   "cell_type": "code",
   "execution_count": 6,
   "metadata": {},
   "outputs": [],
   "source": [
    "demo_train = trainset.sample(frac=0.01,random_state=1)\n",
    "demo_test = testset.sample(frac=0.01,random_state=1)"
   ]
  },
  {
   "cell_type": "code",
   "execution_count": null,
   "metadata": {},
   "outputs": [],
   "source": [
    "# print(data.columns)\n",
    "# # data.drop(columns=['Unnamed: 0','Unnamed: 0.1'],inplace=True)\n",
    "# testset = data[:1000000]\n",
    "# testset.reset_index(drop=True)\n",
    "# trainset = data[1000000:]\n",
    "# trainset.reset_index(drop=True)\n"
   ]
  },
  {
   "cell_type": "code",
   "execution_count": 7,
   "metadata": {},
   "outputs": [
    {
     "name": "stdout",
     "output_type": "stream",
     "text": [
      "trainset size: 270000, 90172 positive, 89994 negtive, 89834 neural.\n",
      "validationset size: 30000, 9828positive, 10006 negtive, 10166 neural.\n"
     ]
    }
   ],
   "source": [
    "x_train, x_validation, y_train, y_validation = train_test_split(trainset.text, trainset.score, test_size=0.1, random_state=1234)\n",
    "print(\"trainset size: {}, {} positive, {} negtive, {} neural.\".format(len(y_train),len(y_train[y_train==1]),len(y_train[y_train == -1]),len(y_train[y_train == 0])))\n",
    "print(\"validationset size: {}, {}positive, {} negtive, {} neural.\".format(len(y_validation),len(y_validation[y_validation==1]),len(y_validation[y_validation==-1]),len(y_validation[y_validation == 0])))"
   ]
  },
  {
   "cell_type": "code",
   "execution_count": 34,
   "metadata": {},
   "outputs": [
    {
     "name": "stdout",
     "output_type": "stream",
     "text": [
      "trainset size: 2700, 889 positive, 884 negtive, 927 neural.\n",
      "validationset size: 300, 103positive, 97 negtive, 100 neural.\n"
     ]
    }
   ],
   "source": [
    "x_train, x_validation, y_train, y_validation = train_test_split(demo_train.text, demo_train.score, test_size=0.1, random_state=1234)\n",
    "print(\"trainset size: {}, {} positive, {} negtive, {} neural.\".format(len(y_train),len(y_train[y_train==1]),len(y_train[y_train == -1]),len(y_train[y_train == 0])))\n",
    "print(\"validationset size: {}, {}positive, {} negtive, {} neural.\".format(len(y_validation),len(y_validation[y_validation==1]),len(y_validation[y_validation==-1]),len(y_validation[y_validation == 0])))"
   ]
  },
  {
   "cell_type": "code",
   "execution_count": 10,
   "metadata": {},
   "outputs": [],
   "source": [
    "tb_sent = [TextBlob(i).sentiment.polarity for i in x_validation]\n",
    "for idx,x in enumerate(tb_sent):\n",
    "    if x < 0:\n",
    "        tb_sent[idx] = -1\n",
    "    elif x > 0:\n",
    "        tb_sent[idx] = 1"
   ]
  },
  {
   "cell_type": "code",
   "execution_count": 11,
   "metadata": {},
   "outputs": [
    {
     "data": {
      "text/plain": [
       "257481   -1.0\n",
       "37018     1.0\n",
       "252972   -1.0\n",
       "54330     1.0\n",
       "211917   -1.0\n",
       "         ... \n",
       "130568    0.0\n",
       "79371     1.0\n",
       "191405    0.0\n",
       "91546     1.0\n",
       "16726     1.0\n",
       "Name: score, Length: 300, dtype: float64"
      ]
     },
     "execution_count": 11,
     "metadata": {},
     "output_type": "execute_result"
    }
   ],
   "source": [
    "y_validation"
   ]
  },
  {
   "cell_type": "code",
   "execution_count": 12,
   "metadata": {},
   "outputs": [
    {
     "data": {
      "text/plain": [
       "array([[36,  0, 61],\n",
       "       [14,  2, 84],\n",
       "       [ 4,  2, 97]], dtype=int64)"
      ]
     },
     "execution_count": 12,
     "metadata": {},
     "output_type": "execute_result"
    }
   ],
   "source": [
    "cm = confusion_matrix(y_validation, tb_sent)\n",
    "cm"
   ]
  },
  {
   "cell_type": "code",
   "execution_count": 13,
   "metadata": {},
   "outputs": [
    {
     "data": {
      "text/plain": [
       "<AxesSubplot:>"
      ]
     },
     "execution_count": 13,
     "metadata": {},
     "output_type": "execute_result"
    },
    {
     "data": {
      "image/png": "[encoded data removed]",
      "text/plain": [
       "<Figure size 576x576 with 2 Axes>"
      ]
     },
     "metadata": {
      "needs_background": "light"
     },
     "output_type": "display_data"
    }
   ],
   "source": [
    "import seaborn as sns\n",
    "sns.set_context({'figure.figsize':(8,8)})\n",
    "ax = ['-1','0','1']\n",
    "sns.heatmap(cm,annot=True,fmt='d',cmap='RdBu_r',xticklabels=ax, yticklabels=ax)\n",
    "\n"
   ]
  },
  {
   "cell_type": "code",
   "execution_count": 14,
   "metadata": {},
   "outputs": [
    {
     "name": "stdout",
     "output_type": "stream",
     "text": [
      "accuracy = 0.45\n",
      "              precision    recall  f1-score   support\n",
      "\n",
      "        -1.0       0.67      0.37      0.48        97\n",
      "         0.0       0.50      0.02      0.04       100\n",
      "         1.0       0.40      0.94      0.56       103\n",
      "\n",
      "    accuracy                           0.45       300\n",
      "   macro avg       0.52      0.44      0.36       300\n",
      "weighted avg       0.52      0.45      0.36       300\n",
      "\n"
     ]
    }
   ],
   "source": [
    "print('accuracy = {}'.format(accuracy_score(y_validation, tb_sent)))\n",
    "print(classification_report(y_validation, tb_sent))"
   ]
  },
  {
   "cell_type": "code",
   "execution_count": 15,
   "metadata": {},
   "outputs": [],
   "source": [
    "from sklearn.naive_bayes import MultinomialNB\n",
    "from sklearn.linear_model import LogisticRegression\n"
   ]
  },
  {
   "cell_type": "code",
   "execution_count": 16,
   "metadata": {},
   "outputs": [],
   "source": [
    "vec = CountVectorizer()\n",
    "clf = MultinomialNB()\n"
   ]
  },
  {
   "cell_type": "code",
   "execution_count": 17,
   "metadata": {},
   "outputs": [],
   "source": [
    "def word_freq(data, max_features):\n",
    "    count_vec = CountVectorizer(stop_words = 'english', max_feature = max_features)\n",
    "    count_vec.fit(data.text)\n",
    "    print('number of unique words:'+ str(len(count_vec.get_feature_names())))\n",
    "\n",
    "    neg_mat = count_vec.transform(data[data.score < 3].text)\n",
    "    pos_mat = count_vec.transform(data[data.score > 3].text)\n",
    "    neu_mat = count_vec.transform(data[data.score == 3].text)\n",
    "    neg_freq = np.squeeze(np.asarray(np.sum(neg_mat, axis=0)))\n",
    "    pos_freq = np.squeeze(np.asarray(np.sum(pos_mat, axis=0)))\n",
    "    neu_freq = np.squeeze(np.asarray(np.sum(neu_mat, axis=0)))\n",
    "\n",
    "    df_freq = pd.DataFrame([neg_freq, neu_freq, pos_freq], columns=count_vec.get_feature_names()).transpose()\n",
    "    df_freq.columns = ['neg','neu','pos']\n",
    "    df_freq['total'] = df_freq['neg'] + df_freq['neu'] + df_freq['pos']\n",
    "    df_freq = df_freq.sort_values('total', ascending=False)\n",
    "\n",
    "    return df_freq"
   ]
  },
  {
   "cell_type": "code",
   "execution_count": 18,
   "metadata": {},
   "outputs": [],
   "source": [
    "# custom_stopwords = list(df_freq.head(25).words)\n",
    "from time import time\n",
    "def calc_accuracy(pipeline, X_train, X_test, y_train, y_test):\n",
    "    t0 = time()\n",
    "    sentiment_clf = pipeline.fit(X_train, y_train)\n",
    "    y_pred = sentiment_clf.predict(X_test)\n",
    "    train_test_time = time() - t0\n",
    "    accuracy = accuracy_score(y_test, y_pred)\n",
    "    fpr = dict()\n",
    "    tpr = dict()\n",
    "    roc_auc = dict()\n",
    "\n",
    "    fpr, tpr, _ = roc_curve(y_test, y_pred, pos_label=1)\n",
    "    roc_auc = auc(fpr, tpr)\n",
    "    \n",
    "    print(\"model accuracy : {0:.2f}\".format(accuracy))\n",
    "    print(\"model auc : {0:.2f}\".format(roc_auc))\n",
    "    print(\"train validation time : {0:.2f}s\".format(train_test_time))\n",
    "    print(\"=========================================================\")\n",
    "    \n",
    "    return accuracy, roc_auc, train_test_time"
   ]
  },
  {
   "cell_type": "code",
   "execution_count": 19,
   "metadata": {},
   "outputs": [],
   "source": [
    "from sklearn.pipeline import Pipeline\n",
    "n_features = np.arange(10000, 100001,10000)\n",
    "def compare_clf_nfeature(X_train, X_test, y_train, y_test, vectorizer=vec, clf=clf, n_features=n_features, stop_words=None, ngram_range = (1,1)):\n",
    "    res = []\n",
    "    print(clf)\n",
    "    for feature in n_features:\n",
    "        vectorizer.set_params(stop_words=stop_words, ngram_range=ngram_range, max_features=feature)\n",
    "        acc_pipeline = Pipeline([('vectorizer', vectorizer), ('classifier', clf)])\n",
    "        print(\"result on model with {} features\".format(feature))\n",
    "        accuracy, auc, time = calc_accuracy(acc_pipeline, X_train, X_test, y_train, y_test)\n",
    "        res.append((feature, accuracy, auc, time))\n",
    "        \n",
    "    return res"
   ]
  },
  {
   "cell_type": "code",
   "execution_count": 20,
   "metadata": {},
   "outputs": [
    {
     "name": "stdout",
     "output_type": "stream",
     "text": [
      "MultinomialNB()\n",
      "result on model with 10000 features\n",
      "model accuracy : 0.61\n",
      "model auc : 0.80\n",
      "train validation time : 0.24s\n",
      "=========================================================\n",
      "result on model with 20000 features\n",
      "model accuracy : 0.58\n",
      "model auc : 0.78\n",
      "train validation time : 0.23s\n",
      "=========================================================\n",
      "result on model with 30000 features\n",
      "model accuracy : 0.58\n",
      "model auc : 0.78\n",
      "train validation time : 0.23s\n",
      "=========================================================\n",
      "result on model with 40000 features\n",
      "model accuracy : 0.58\n",
      "model auc : 0.78\n",
      "train validation time : 0.24s\n",
      "=========================================================\n",
      "result on model with 50000 features\n",
      "model accuracy : 0.58\n",
      "model auc : 0.78\n",
      "train validation time : 0.23s\n",
      "=========================================================\n",
      "result on model with 60000 features\n",
      "model accuracy : 0.58\n",
      "model auc : 0.78\n",
      "train validation time : 0.23s\n",
      "=========================================================\n",
      "result on model with 70000 features\n",
      "model accuracy : 0.58\n",
      "model auc : 0.78\n",
      "train validation time : 0.24s\n",
      "=========================================================\n",
      "result on model with 80000 features\n",
      "model accuracy : 0.58\n",
      "model auc : 0.78\n",
      "train validation time : 0.25s\n",
      "=========================================================\n",
      "result on model with 90000 features\n",
      "model accuracy : 0.58\n",
      "model auc : 0.78\n",
      "train validation time : 0.23s\n",
      "=========================================================\n",
      "result on model with 100000 features\n",
      "model accuracy : 0.58\n",
      "model auc : 0.78\n",
      "train validation time : 0.23s\n",
      "=========================================================\n"
     ]
    }
   ],
   "source": [
    "results = compare_clf_nfeature(x_train, x_validation, y_train, y_validation)"
   ]
  },
  {
   "cell_type": "code",
   "execution_count": 21,
   "metadata": {},
   "outputs": [
    {
     "name": "stdout",
     "output_type": "stream",
     "text": [
      "MultinomialNB()\n",
      "result on model with 10000 features\n",
      "model accuracy : 0.56\n",
      "model auc : 0.78\n",
      "train validation time : 0.25s\n",
      "=========================================================\n",
      "result on model with 20000 features\n",
      "model accuracy : 0.57\n",
      "model auc : 0.76\n",
      "train validation time : 0.25s\n",
      "=========================================================\n",
      "result on model with 30000 features\n",
      "model accuracy : 0.57\n",
      "model auc : 0.78\n",
      "train validation time : 0.24s\n",
      "=========================================================\n",
      "result on model with 40000 features\n",
      "model accuracy : 0.57\n",
      "model auc : 0.78\n",
      "train validation time : 0.24s\n",
      "=========================================================\n",
      "result on model with 50000 features\n",
      "model accuracy : 0.57\n",
      "model auc : 0.78\n",
      "train validation time : 0.23s\n",
      "=========================================================\n",
      "result on model with 60000 features\n",
      "model accuracy : 0.57\n",
      "model auc : 0.78\n",
      "train validation time : 0.24s\n",
      "=========================================================\n",
      "result on model with 70000 features\n",
      "model accuracy : 0.57\n",
      "model auc : 0.78\n",
      "train validation time : 0.24s\n",
      "=========================================================\n",
      "result on model with 80000 features\n",
      "model accuracy : 0.57\n",
      "model auc : 0.78\n",
      "train validation time : 0.25s\n",
      "=========================================================\n",
      "result on model with 90000 features\n",
      "model accuracy : 0.57\n",
      "model auc : 0.78\n",
      "train validation time : 0.24s\n",
      "=========================================================\n",
      "result on model with 100000 features\n",
      "model accuracy : 0.57\n",
      "model auc : 0.78\n",
      "train validation time : 0.24s\n",
      "=========================================================\n"
     ]
    }
   ],
   "source": [
    "results_stop_eng = compare_clf_nfeature(x_train, x_validation, y_train, y_validation, stop_words='english')"
   ]
  },
  {
   "cell_type": "code",
   "execution_count": 22,
   "metadata": {},
   "outputs": [],
   "source": [
    "cols = ['n_features', 'val_acc', 'val_auc','time']\n",
    "results = pd.DataFrame(results,columns=cols)\n",
    "results_stop_eng = pd.DataFrame(results_stop_eng, columns=cols)\n"
   ]
  },
  {
   "cell_type": "code",
   "execution_count": 23,
   "metadata": {},
   "outputs": [
    {
     "data": {
      "text/plain": [
       "<matplotlib.legend.Legend at 0x228012a3dc8>"
      ]
     },
     "execution_count": 23,
     "metadata": {},
     "output_type": "execute_result"
    },
    {
     "data": {
      "image/png": "[encoded data removed]",
      "text/plain": [
       "<Figure size 576x288 with 1 Axes>"
      ]
     },
     "metadata": {
      "needs_background": "light"
     },
     "output_type": "display_data"
    }
   ],
   "source": [
    "plt.figure(figsize=(8,4))\n",
    "plt.plot(results.n_features, results.val_acc, label='without stopwords')\n",
    "plt.plot(results_stop_eng.n_features, results_stop_eng.val_acc, label='with stopwords')\n",
    "plt.title('comparison of model performance with and without stopwords')\n",
    "plt.xlabel('num of features')\n",
    "plt.ylabel('model validation accuracy')\n",
    "plt.legend()"
   ]
  },
  {
   "cell_type": "code",
   "execution_count": 24,
   "metadata": {},
   "outputs": [
    {
     "name": "stdout",
     "output_type": "stream",
     "text": [
      "MultinomialNB()\n",
      "result on model with 10000 features\n",
      "model accuracy : 0.61\n",
      "model auc : 0.81\n",
      "train validation time : 1.01s\n",
      "=========================================================\n",
      "result on model with 20000 features\n",
      "model accuracy : 0.59\n",
      "model auc : 0.79\n",
      "train validation time : 0.99s\n",
      "=========================================================\n",
      "result on model with 30000 features\n",
      "model accuracy : 0.62\n",
      "model auc : 0.79\n",
      "train validation time : 1.03s\n",
      "=========================================================\n",
      "result on model with 40000 features\n",
      "model accuracy : 0.61\n",
      "model auc : 0.79\n",
      "train validation time : 1.01s\n",
      "=========================================================\n",
      "result on model with 50000 features\n",
      "model accuracy : 0.59\n",
      "model auc : 0.78\n",
      "train validation time : 1.01s\n",
      "=========================================================\n",
      "result on model with 60000 features\n",
      "model accuracy : 0.59\n",
      "model auc : 0.77\n",
      "train validation time : 1.01s\n",
      "=========================================================\n",
      "result on model with 70000 features\n",
      "model accuracy : 0.58\n",
      "model auc : 0.76\n",
      "train validation time : 1.01s\n",
      "=========================================================\n",
      "result on model with 80000 features\n",
      "model accuracy : 0.57\n",
      "model auc : 0.76\n",
      "train validation time : 1.00s\n",
      "=========================================================\n",
      "result on model with 90000 features\n",
      "model accuracy : 0.56\n",
      "model auc : 0.75\n",
      "train validation time : 1.02s\n",
      "=========================================================\n",
      "result on model with 100000 features\n",
      "model accuracy : 0.55\n",
      "model auc : 0.74\n",
      "train validation time : 1.05s\n",
      "=========================================================\n"
     ]
    }
   ],
   "source": [
    "res_bigram = compare_clf_nfeature(x_train, x_validation, y_train, y_validation, ngram_range=(1,2))"
   ]
  },
  {
   "cell_type": "code",
   "execution_count": 25,
   "metadata": {},
   "outputs": [
    {
     "name": "stdout",
     "output_type": "stream",
     "text": [
      "MultinomialNB()\n",
      "result on model with 10000 features\n",
      "model accuracy : 0.59\n",
      "model auc : 0.80\n",
      "train validation time : 1.93s\n",
      "=========================================================\n",
      "result on model with 20000 features\n",
      "model accuracy : 0.60\n",
      "model auc : 0.78\n",
      "train validation time : 2.03s\n",
      "=========================================================\n",
      "result on model with 30000 features\n",
      "model accuracy : 0.61\n",
      "model auc : 0.78\n",
      "train validation time : 2.00s\n",
      "=========================================================\n",
      "result on model with 40000 features\n",
      "model accuracy : 0.62\n",
      "model auc : 0.80\n",
      "train validation time : 1.99s\n",
      "=========================================================\n",
      "result on model with 50000 features\n",
      "model accuracy : 0.60\n",
      "model auc : 0.78\n",
      "train validation time : 2.05s\n",
      "=========================================================\n",
      "result on model with 60000 features\n",
      "model accuracy : 0.59\n",
      "model auc : 0.77\n",
      "train validation time : 1.97s\n",
      "=========================================================\n",
      "result on model with 70000 features\n",
      "model accuracy : 0.58\n",
      "model auc : 0.77\n",
      "train validation time : 1.95s\n",
      "=========================================================\n",
      "result on model with 80000 features\n",
      "model accuracy : 0.56\n",
      "model auc : 0.77\n",
      "train validation time : 2.01s\n",
      "=========================================================\n",
      "result on model with 90000 features\n",
      "model accuracy : 0.57\n",
      "model auc : 0.77\n",
      "train validation time : 2.01s\n",
      "=========================================================\n",
      "result on model with 100000 features\n",
      "model accuracy : 0.56\n",
      "model auc : 0.75\n",
      "train validation time : 2.01s\n",
      "=========================================================\n"
     ]
    }
   ],
   "source": [
    "res_trigram = compare_clf_nfeature(x_train, x_validation, y_train, y_validation, ngram_range=(1,3))\n",
    "res_bigram = pd.DataFrame(res_bigram, columns=cols)\n",
    "res_trigram = pd.DataFrame(res_trigram, columns=cols)"
   ]
  },
  {
   "cell_type": "code",
   "execution_count": 26,
   "metadata": {},
   "outputs": [
    {
     "data": {
      "text/plain": [
       "<matplotlib.legend.Legend at 0x2282176d9c8>"
      ]
     },
     "execution_count": 26,
     "metadata": {},
     "output_type": "execute_result"
    },
    {
     "data": {
      "image/png": "[encoded data removed]",
      "text/plain": [
       "<Figure size 576x288 with 1 Axes>"
      ]
     },
     "metadata": {
      "needs_background": "light"
     },
     "output_type": "display_data"
    }
   ],
   "source": [
    "plt.figure(figsize=(8,4))\n",
    "plt.plot(results.n_features, results.val_acc, label='bigram')\n",
    "plt.plot(res_bigram.n_features, res_trigram.val_acc, label='trigram')\n",
    "plt.title('comparison of model performance bigram and trigram')\n",
    "plt.xlabel('num of features')\n",
    "plt.ylabel('model validation accuracy')\n",
    "plt.legend()"
   ]
  },
  {
   "cell_type": "code",
   "execution_count": 35,
   "metadata": {},
   "outputs": [],
   "source": [
    "clf = MultinomialNB()\n",
    "vectorizer = CountVectorizer(ngram_range=(1,3), max_features=500)\n",
    "x_train = vectorizer.fit_transform(x_train)\n",
    "# x_test, y_test = testset.text, testset.score\n",
    "# x_test = vectorizer.transform(x_test)\n",
    "x_test, y_test = demo_test.text, demo_test.score\n"
   ]
  },
  {
   "cell_type": "code",
   "execution_count": 36,
   "metadata": {},
   "outputs": [],
   "source": [
    "x_test = vectorizer.transform(x_test)"
   ]
  },
  {
   "cell_type": "code",
   "execution_count": 37,
   "metadata": {},
   "outputs": [
    {
     "data": {
      "text/plain": [
       "MultinomialNB()"
      ]
     },
     "execution_count": 37,
     "metadata": {},
     "output_type": "execute_result"
    }
   ],
   "source": [
    "clf.fit(x_train, y_train)"
   ]
  },
  {
   "cell_type": "code",
   "execution_count": 38,
   "metadata": {},
   "outputs": [
    {
     "name": "stdout",
     "output_type": "stream",
     "text": [
      "accuracy of NB: 0.6136313097620636\n",
      "[[ 1976   780   508]\n",
      " [  459  1043   456]\n",
      " [ 2895  5327 13538]]\n"
     ]
    }
   ],
   "source": [
    "y_pred = clf.predict(x_test)\n",
    "# y_pred = np.argmax(prob,axis=-1)\n",
    "# y_pred_prob = [i[1] for i in prob]\n",
    "nb_accuracy = accuracy_score(y_test, y_pred)\n",
    "nb_cm = confusion_matrix(y_test, y_pred)\n",
    "\n",
    "print(\"accuracy of NB:\", nb_accuracy)\n",
    "print(nb_cm)"
   ]
  },
  {
   "cell_type": "code",
   "execution_count": 39,
   "metadata": {},
   "outputs": [
    {
     "data": {
      "text/plain": [
       "<AxesSubplot:>"
      ]
     },
     "execution_count": 39,
     "metadata": {},
     "output_type": "execute_result"
    },
    {
     "data": {
      "image/png": "[encoded data removed]",
      "text/plain": [
       "<Figure size 576x576 with 2 Axes>"
      ]
     },
     "metadata": {
      "needs_background": "light"
     },
     "output_type": "display_data"
    }
   ],
   "source": [
    "import seaborn as sns\n",
    "sns.set_context({'figure.figsize':(8,8)})\n",
    "ax = ['-1','0','1']\n",
    "sns.heatmap(nb_cm,annot=True,fmt='d',cmap='RdBu_r',xticklabels=ax, yticklabels=ax)"
   ]
  },
  {
   "cell_type": "code",
   "execution_count": 40,
   "metadata": {},
   "outputs": [],
   "source": [
    "y_score = clf.predict_proba(x_test)\n",
    "# y_score = pd.DataFrame(y_score, columns=clf.classes_)\n",
    "y_score_idx = np.argmax(y_score, axis=-1)\n",
    "y_prob = [i[2] for i in y_score]\n",
    "\n"
   ]
  },
  {
   "cell_type": "code",
   "execution_count": 41,
   "metadata": {},
   "outputs": [
    {
     "name": "stdout",
     "output_type": "stream",
     "text": [
      "              precision    recall  f1-score   support\n",
      "\n",
      "        -1.0     0.3707    0.6054    0.4599      3264\n",
      "         0.0     0.1459    0.5327    0.2290      1958\n",
      "         1.0     0.9335    0.6222    0.7467     21760\n",
      "\n",
      "    accuracy                         0.6136     26982\n",
      "   macro avg     0.4834    0.5867    0.4785     26982\n",
      "weighted avg     0.8083    0.6136    0.6744     26982\n",
      "\n"
     ]
    },
    {
     "data": {
      "image/png": "[encoded data removed]",
      "text/plain": [
       "<Figure size 576x576 with 1 Axes>"
      ]
     },
     "metadata": {
      "needs_background": "light"
     },
     "output_type": "display_data"
    }
   ],
   "source": [
    "print(classification_report(y_test, y_pred, digits=4))\n",
    "fpr = dict()\n",
    "tpr = dict()\n",
    "roc_auc = dict()\n",
    "\n",
    "fpr, tpr, _ = roc_curve(y_test, y_prob, pos_label=1)\n",
    "roc_auc = auc(fpr, tpr)\n",
    "\n",
    "plt.figure()\n",
    "lw = 2\n",
    "plt.plot(fpr, tpr, color='darkorange',\n",
    "         lw=lw, label='ROC curve (area = %0.2f)' % roc_auc)\n",
    "plt.plot([0, 1], [0, 1], color='navy', lw=lw, linestyle='--')\n",
    "plt.xlim([0.0, 1.0])\n",
    "plt.ylim([0.0, 1.05])\n",
    "plt.xlabel('False Positive Rate')\n",
    "plt.ylabel('True Positive Rate')\n",
    "plt.title('Receiver operating characteristic')\n",
    "plt.legend(loc=\"lower right\")\n",
    "plt.show()"
   ]
  },
  {
   "cell_type": "code",
   "execution_count": 42,
   "metadata": {},
   "outputs": [],
   "source": [
    "\n",
    "def plot_auc(label, prediction):\n",
    "    fpr = dict()\n",
    "    tpr = dict()\n",
    "    roc_auc = dict()\n",
    "\n",
    "    fpr, tpr, _ = roc_curve(label, prediction, pos_label=1)\n",
    "    roc_auc = auc(fpr, tpr)\n",
    "\n",
    "    plt.figure()\n",
    "    lw = 2\n",
    "    plt.plot(fpr, tpr, color='darkorange',\n",
    "             lw=lw, label='ROC curve (area = %0.2f)' % roc_auc)\n",
    "    plt.plot([0, 1], [0, 1], color='navy', lw=lw, linestyle='--')\n",
    "    plt.xlim([0.0, 1.0])\n",
    "    plt.ylim([0.0, 1.05])\n",
    "    plt.xlabel('False Positive Rate')\n",
    "    plt.ylabel('True Positive Rate')\n",
    "    plt.title('Receiver operating characteristic example')\n",
    "    plt.legend(loc=\"lower right\")\n",
    "    plt.show()"
   ]
  },
  {
   "cell_type": "code",
   "execution_count": 43,
   "metadata": {},
   "outputs": [],
   "source": [
    "\n",
    "from sklearn.model_selection import StratifiedShuffleSplit, StratifiedKFold\n",
    "from sklearn.model_selection import GridSearchCV\n",
    "from sklearn.calibration import CalibratedClassifierCV\n",
    "\n",
    "def find_params(x_train, y_train):\n",
    "    C_range = np.logspace(-3, 10, 8)\n",
    "    param_grid = dict(C=C_range)\n",
    "    cv = StratifiedShuffleSplit(n_splits=5, test_size=0.2, random_state=42)\n",
    "    grid = GridSearchCV(LinearSVC(), param_grid=param_grid, cv=cv)\n",
    "    grid.fit(x_train, y_train)\n",
    "    \n",
    "    # Draw plot for gamma-C value result\n",
    "    score_dict = grid.grid_scores_\n",
    "\n",
    "    scores = [x[1] for x in score_dict]\n",
    "    scores = np.array(scores).reshape(len(C_range))\n",
    "    \n",
    "    plt.figure(figsize=(8, 6))\n",
    "    plt.subplots_adjust(left=0.15, right=0.95, bottom=0.15, top=0.95)\n",
    "    plt.imshow(scores, interpolation='nearest', cmap=plt.cm.get_cmap(\"Spectral\"))\n",
    "    plt.ylabel('C')\n",
    "    plt.colorbar()\n",
    "    plt.yticks(np.arange(len(C_range)), C_range)\n",
    "    plt.show()\n",
    "    \n",
    "    return grid.best_params_"
   ]
  },
  {
   "cell_type": "code",
   "execution_count": 44,
   "metadata": {},
   "outputs": [],
   "source": [
    "def plot_cm(cm):\n",
    "    sns.set_context({'figure.figsize':(8,8)})\n",
    "    ax = ['-1','0','1']\n",
    "    sns.heatmap(cm,annot=True,fmt='d',cmap='RdBu_r',xticklabels=ax, yticklabels=ax)"
   ]
  },
  {
   "cell_type": "code",
   "execution_count": 45,
   "metadata": {},
   "outputs": [],
   "source": [
    "from sklearn.calibration import CalibratedClassifierCV\n",
    "\n",
    "\n",
    "def sentiment_svm(train, test, C, frac = 1, max_features = None, kernel='linear', ngram_range=(1,3), gamma=0, use_params=False):\n",
    "    X_train, y_train = train.sample(frac=frac, random_state=1234).text, train.sample(frac=frac, random_state=1234).score\n",
    "    X_test, y_test = test.sample(frac=frac, random_state=1234).text, test.sample(frac=frac, random_state=1234).score \n",
    "\n",
    "    tf_vectorizer = TfidfVectorizer(ngram_range=ngram_range, max_features=max_features)\n",
    "    X_train = tf_vectorizer.fit_transform(X_train)\n",
    "    X_test = tf_vectorizer.transform(X_test)\n",
    "\n",
    "    #svd = TruncatedSVD(n_components=10)\n",
    "    #X_train = svd.fit_transform(X_train)\n",
    "    #X_test = svd.transform(X_test)\n",
    "    \n",
    "    if kernel == 'linear':\n",
    "        if use_params:\n",
    "            params = find_params(X_train, y_train)\n",
    "            print ('Best params: %s' % (params))\n",
    "#             svm = LinearSVC(C=params['C'])\n",
    "            svm = CalibratedClassifierCV(base_estimator=LinearSVC(C=params['C']), cv=5)\n",
    "        else:\n",
    "#             svm = LinearSVC(C=C)\n",
    "            svm = CalibratedClassifierCV(base_estimator=LinearSVC(C=C), cv=5)\n",
    "    else:\n",
    "#         svm = SVC(C=C, gamma=gamma)\n",
    "        svm = CalibratedClassifierCV(base_estimator=SVC(C=C, gamma=gamma), cv=5)\n",
    "        \n",
    "    print(svm)    \n",
    "    \n",
    "    t0 = time()\n",
    "    svm.fit(X_train, y_train)\n",
    "    train_test_time = time() - t0\n",
    "    print(\"training time: {0:.2f}s\".format(train_test_time))\n",
    "    \n",
    "    probas = svm.predict_proba(X_test)\n",
    "    y_pred = svm.predict(X_test)\n",
    "    y_pred_prob = [i[2] for i in probas]\n",
    "\n",
    "    acc_score = accuracy_score(y_test, y_pred)\n",
    "    svm_cm = confusion_matrix(y_test, y_pred)\n",
    "    print(\"Model accuracy = {0:.3f}%\".format(acc_score*100))\n",
    "    print(classification_report(y_test, y_pred, digits=4))\n",
    "\n",
    "    plot_auc(y_test, y_pred_prob)\n",
    "    plot_cm(svm_cm)\n"
   ]
  },
  {
   "cell_type": "code",
   "execution_count": 47,
   "metadata": {},
   "outputs": [
    {
     "name": "stdout",
     "output_type": "stream",
     "text": [
      "CalibratedClassifierCV(base_estimator=LinearSVC(C=0.5), cv=5)\n",
      "training time: 1.25s\n",
      "Model accuracy = 58.183%\n",
      "              precision    recall  f1-score   support\n",
      "\n",
      "        -1.0     0.4263    0.6385    0.5112      3264\n",
      "         0.0     0.1346    0.6292    0.2217      1958\n",
      "         1.0     0.9572    0.5691    0.7138     21760\n",
      "\n",
      "    accuracy                         0.5818     26982\n",
      "   macro avg     0.5060    0.6123    0.4822     26982\n",
      "weighted avg     0.8333    0.5818    0.6536     26982\n",
      "\n"
     ]
    },
    {
     "data": {
      "image/png": "[encoded data removed]",
      "text/plain": [
       "<Figure size 576x576 with 1 Axes>"
      ]
     },
     "metadata": {
      "needs_background": "light"
     },
     "output_type": "display_data"
    },
    {
     "data": {
      "image/png": "[encoded data removed]",
      "text/plain": [
       "<Figure size 576x576 with 2 Axes>"
      ]
     },
     "metadata": {
      "needs_background": "light"
     },
     "output_type": "display_data"
    }
   ],
   "source": [
    "# sentiment_svm(trainset, testset, 0.5)\n",
    "sentiment_svm(demo_train, demo_test, 0.5)"
   ]
  },
  {
   "cell_type": "code",
   "execution_count": 48,
   "metadata": {},
   "outputs": [
    {
     "name": "stdout",
     "output_type": "stream",
     "text": [
      "CalibratedClassifierCV(base_estimator=SVC(C=10, gamma=0.1), cv=5)\n",
      "training time: 0.14s\n",
      "Model accuracy = 42.921%\n",
      "              precision    recall  f1-score   support\n",
      "\n",
      "        -1.0     0.3000    0.4407    0.3570       177\n",
      "         0.0     0.0812    0.5054    0.1399        93\n",
      "         1.0     0.8902    0.4208    0.5714      1079\n",
      "\n",
      "    accuracy                         0.4292      1349\n",
      "   macro avg     0.4238    0.4556    0.3561      1349\n",
      "weighted avg     0.7570    0.4292    0.5135      1349\n",
      "\n"
     ]
    },
    {
     "data": {
      "image/png": "[encoded data removed]",
      "text/plain": [
       "<Figure size 576x576 with 1 Axes>"
      ]
     },
     "metadata": {
      "needs_background": "light"
     },
     "output_type": "display_data"
    },
    {
     "data": {
      "image/png": "[encoded data removed]",
      "text/plain": [
       "<Figure size 576x576 with 2 Axes>"
      ]
     },
     "metadata": {
      "needs_background": "light"
     },
     "output_type": "display_data"
    }
   ],
   "source": [
    "# sentiment_svm(trainset, testset,C=10, frac=0.05,kernel='rbf', gamma=0.1)\n",
    "sentiment_svm(demo_train, demo_test,C=10, frac=0.05,kernel='rbf', gamma=0.1)"
   ]
  }
 ],
 "metadata": {
  "interpreter": {
   "hash": "e37a6a48f9304d19c34ecab5f987c6aae4abb2c1e936b508333bf36acbe97a24"
  },
  "kernelspec": {
   "display_name": "Python 3.7.9 64-bit (system)",
   "name": "python3"
  },
  "language_info": {
   "codemirror_mode": {
    "name": "ipython",
    "version": 3
   },
   "file_extension": ".py",
   "mimetype": "text/x-python",
   "name": "python",
   "nbconvert_exporter": "python",
   "pygments_lexer": "ipython3",
   "version": "3.7.9"
  },
  "orig_nbformat": 4
 },
 "nbformat": 4,
 "nbformat_minor": 2
}
