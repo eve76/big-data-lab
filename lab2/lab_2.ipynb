{
 "cells": [
  {
   "cell_type": "code",
   "execution_count": 35,
   "source": [
    "import numpy as np \r\n",
    "import pandas as pd\r\n",
    "import sklearn\r\n",
    "# from sklearn.externals import joblib\r\n",
    "from gensim.models.word2vec import Word2Vec\r\n",
    "import gensim.models.word2vec as word2vec\r\n",
    "\r\n",
    "DIM = 100\r\n"
   ],
   "outputs": [],
   "metadata": {}
  },
  {
   "cell_type": "code",
   "execution_count": 36,
   "source": [
    "''' load and init''' \r\n",
    "train_path = 'train.csv'\r\n",
    "data = pd.read_csv(train_path)\r\n",
    "train_label = data.score\r\n",
    "train_text = data.text\r\n",
    "eval_path = \"evaluation.csv\"\r\n",
    "eval_data = pd.read_csv(eval_path)\r\n",
    "eval_text = eval_data.text\r\n",
    "eval_label = eval_data.score\r\n",
    "test_path = \"test.csv\"\r\n",
    "test_data = pd.read_csv(test_path)\r\n",
    "test_text = test_data.text\r\n",
    "test_label = test_data.score"
   ],
   "outputs": [],
   "metadata": {}
  },
  {
   "cell_type": "code",
   "execution_count": 37,
   "source": [
    "'''pre-process data''' \r\n",
    "import nltk\r\n",
    "# nltk.download()\r\n",
    "from bs4 import BeautifulSoup\r\n",
    "import re\r\n",
    "from nltk.corpus import stopwords\r\n",
    "stops = set(stopwords.words(\"english\"))\r\n",
    "# stops = set()\r\n",
    "\r\n",
    "def comment_to_words(text):\r\n",
    "    \r\n",
    "    text = BeautifulSoup(text).get_text()\r\n",
    "\r\n",
    "    words = re.sub(\"[^a-zA-Z]\", \" \", text)\r\n",
    "    # print(words)\r\n",
    "    words = words.lower().split()\r\n",
    "    # print(words)\r\n",
    "    words = [w for w in words if not w in stops]\r\n",
    "\r\n",
    "    return words"
   ],
   "outputs": [],
   "metadata": {}
  },
  {
   "cell_type": "code",
   "execution_count": 38,
   "source": [
    "''' get corpus input data'''\r\n",
    "from tqdm import tqdm\r\n",
    "n_comments = train_text.size\r\n",
    "clean_comments = []\r\n",
    "\r\n",
    "eval_word_comments = []\r\n",
    "\r\n",
    "test_word_comments = []\r\n",
    "for i in tqdm(range(len(test_text))):\r\n",
    "    test_word_comments.append(comment_to_words(test_text[i]))\r\n",
    "for i in tqdm(range(len(eval_text))):\r\n",
    "    eval_word_comments.append(comment_to_words(eval_text[i]))\r\n",
    "for i in tqdm(range(n_comments)):\r\n",
    "    clean_comments.append(comment_to_words(train_text[i]))\r\n",
    "clean_comments += test_word_comments + eval_word_comments"
   ],
   "outputs": [
    {
     "output_type": "stream",
     "name": "stderr",
     "text": [
      "100%|██████████| 2500/2500 [00:02<00:00, 858.90it/s]\n",
      "100%|██████████| 5000/5000 [00:00<00:00, 7670.25it/s]\n",
      "100%|██████████| 7500/7500 [00:01<00:00, 4671.44it/s]\n"
     ]
    }
   ],
   "metadata": {}
  },
  {
   "cell_type": "code",
   "execution_count": 39,
   "source": [
    "word_vec = Word2Vec(sentences=clean_comments,vector_size=DIM) # get word vector from corpus comments\r\n"
   ],
   "outputs": [],
   "metadata": {}
  },
  {
   "cell_type": "code",
   "execution_count": 40,
   "source": [
    "'''function to calculate the mean of a sentence'''\r\n",
    "def build_vec(sent,size,w2v):\r\n",
    "    vec = np.zeros(size).reshape((1,size))\r\n",
    "    count = 0\r\n",
    "    for w in sent:\r\n",
    "        # print(w)\r\n",
    "        try:\r\n",
    "            vec += w2v.wv[w].reshape((1,size))\r\n",
    "            count += 1\r\n",
    "\r\n",
    "        except:\r\n",
    "            continue\r\n",
    "    if count!=0:\r\n",
    "        vec /= count\r\n",
    "    # print(vec)\r\n",
    "    \r\n",
    "    return vec"
   ],
   "outputs": [],
   "metadata": {}
  },
  {
   "cell_type": "code",
   "execution_count": 41,
   "source": [
    "''' calculate all sentence vector and divide the corpus to train test and eval'''\r\n",
    "corpus_vec = np.concatenate([build_vec(text,DIM,word_vec) for text in clean_comments])\r\n",
    "train_vec = corpus_vec[:7500]"
   ],
   "outputs": [],
   "metadata": {}
  },
  {
   "cell_type": "code",
   "execution_count": 42,
   "source": [
    "from sklearn.svm import SVC\r\n",
    "\r\n",
    "import joblib\r\n",
    "clf = SVC()\r\n",
    "clf.fit(train_vec, train_label)\r\n",
    "\r\n",
    "\r\n",
    "joblib.dump(clf,'svc_model.pkl')\r\n"
   ],
   "outputs": [
    {
     "output_type": "execute_result",
     "data": {
      "text/plain": [
       "['svc_model.pkl']"
      ]
     },
     "metadata": {},
     "execution_count": 42
    }
   ],
   "metadata": {}
  },
  {
   "cell_type": "code",
   "execution_count": 46,
   "source": [
    "\r\n",
    "clf = joblib.load('svc_model.pkl')\r\n",
    "\r\n",
    "test_vec = np.concatenate([build_vec(test_text,DIM,word_vec) for test_text in test_word_comments])\r\n",
    "\r\n",
    "print('accuracy of test dataset is:',clf.score(test_vec, test_label))"
   ],
   "outputs": [
    {
     "output_type": "stream",
     "name": "stdout",
     "text": [
      "accuracy of test dataset is: 0.7636\n"
     ]
    }
   ],
   "metadata": {}
  },
  {
   "cell_type": "code",
   "execution_count": null,
   "source": [],
   "outputs": [],
   "metadata": {}
  },
  {
   "cell_type": "code",
   "execution_count": 47,
   "source": [
    "\r\n",
    "eval_vec = np.concatenate([build_vec(eval_text,DIM,word_vec) for eval_text in eval_word_comments])\r\n",
    "print('accuracy of evaluation dataset is:',clf.score(eval_vec, eval_label))"
   ],
   "outputs": [
    {
     "output_type": "stream",
     "name": "stdout",
     "text": [
      "accuracy of evaluation dataset is: 0.7646\n"
     ]
    }
   ],
   "metadata": {}
  }
 ],
 "metadata": {
  "orig_nbformat": 4,
  "language_info": {
   "name": "python",
   "version": "3.7.9",
   "mimetype": "text/x-python",
   "codemirror_mode": {
    "name": "ipython",
    "version": 3
   },
   "pygments_lexer": "ipython3",
   "nbconvert_exporter": "python",
   "file_extension": ".py"
  },
  "kernelspec": {
   "name": "python3",
   "display_name": "Python 3.7.9 64-bit"
  },
  "interpreter": {
   "hash": "e37a6a48f9304d19c34ecab5f987c6aae4abb2c1e936b508333bf36acbe97a24"
  }
 },
 "nbformat": 4,
 "nbformat_minor": 2
}