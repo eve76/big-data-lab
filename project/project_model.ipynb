{
 "cells": [
  {
   "cell_type": "code",
   "execution_count": 1,
   "source": [
    "import pandas as pd \r\n",
    "import numpy as np \r\n",
    "import matplotlib.pyplot as plt \r\n",
    "from sklearn.model_selection import train_test_split\r\n",
    "from sklearn.metrics import accuracy_score, classification_report, confusion_matrix\r\n",
    "from sklearn.feature_extraction.text import CountVectorizer, TfidfTransformer\r\n",
    "from sklearn.metrics import roc_curve, auc\r\n",
    "from sklearn.svm import LinearSVC\r\n",
    "from sklearn.svm import SVC\r\n",
    "from textblob import TextBlob"
   ],
   "outputs": [],
   "metadata": {}
  },
  {
   "cell_type": "code",
   "execution_count": 21,
   "source": [
    "data = pd.read_csv('f_clean.csv')"
   ],
   "outputs": [],
   "metadata": {}
  },
  {
   "cell_type": "code",
   "execution_count": 22,
   "source": [
    "data.loc[data['score'] < 3, 'score'] = -1\r\n",
    "data.loc[data['score'] == 3, 'score'] = 0\r\n",
    "data.loc[data['score'] > 3, 'score'] = 1"
   ],
   "outputs": [],
   "metadata": {}
  },
  {
   "cell_type": "code",
   "execution_count": 24,
   "source": [
    "# print(data.columns)\r\n",
    "# data.drop(columns=['Unnamed: 0','Unnamed: 0.1'],inplace=True)\r\n",
    "testset = data[:1000000]\r\n",
    "testset.reset_index(drop=True)\r\n",
    "trainset = data[1000000:]\r\n",
    "trainset.reset_index(drop=True)\r\n"
   ],
   "outputs": [
    {
     "output_type": "execute_result",
     "data": {
      "text/html": [
       "<div>\n",
       "<style scoped>\n",
       "    .dataframe tbody tr th:only-of-type {\n",
       "        vertical-align: middle;\n",
       "    }\n",
       "\n",
       "    .dataframe tbody tr th {\n",
       "        vertical-align: top;\n",
       "    }\n",
       "\n",
       "    .dataframe thead th {\n",
       "        text-align: right;\n",
       "    }\n",
       "</style>\n",
       "<table border=\"1\" class=\"dataframe\">\n",
       "  <thead>\n",
       "    <tr style=\"text-align: right;\">\n",
       "      <th></th>\n",
       "      <th>Unnamed: 0</th>\n",
       "      <th>Unnamed: 0.1</th>\n",
       "      <th>text</th>\n",
       "      <th>score</th>\n",
       "    </tr>\n",
       "  </thead>\n",
       "  <tbody>\n",
       "    <tr>\n",
       "      <th>0</th>\n",
       "      <td>1000008</td>\n",
       "      <td>1000008</td>\n",
       "      <td>loved ergo proxy ever since came back art extr...</td>\n",
       "      <td>1.0</td>\n",
       "    </tr>\n",
       "    <tr>\n",
       "      <th>1</th>\n",
       "      <td>1000009</td>\n",
       "      <td>1000009</td>\n",
       "      <td>one favorite series fans bladerunner ghost she...</td>\n",
       "      <td>1.0</td>\n",
       "    </tr>\n",
       "    <tr>\n",
       "      <th>2</th>\n",
       "      <td>1000010</td>\n",
       "      <td>1000010</td>\n",
       "      <td>absolutely love series watched ever since came...</td>\n",
       "      <td>1.0</td>\n",
       "    </tr>\n",
       "    <tr>\n",
       "      <th>3</th>\n",
       "      <td>1000011</td>\n",
       "      <td>1000011</td>\n",
       "      <td>spoiler free short review ergo proxy brilliant...</td>\n",
       "      <td>1.0</td>\n",
       "    </tr>\n",
       "    <tr>\n",
       "      <th>4</th>\n",
       "      <td>1000012</td>\n",
       "      <td>1000012</td>\n",
       "      <td>kick review like say really much enjoyment wat...</td>\n",
       "      <td>1.0</td>\n",
       "    </tr>\n",
       "    <tr>\n",
       "      <th>...</th>\n",
       "      <td>...</td>\n",
       "      <td>...</td>\n",
       "      <td>...</td>\n",
       "      <td>...</td>\n",
       "    </tr>\n",
       "    <tr>\n",
       "      <th>499091</th>\n",
       "      <td>1499102</td>\n",
       "      <td>1499102</td>\n",
       "      <td>fan alex loughlin since cbs drama moonlight qu...</td>\n",
       "      <td>1.0</td>\n",
       "    </tr>\n",
       "    <tr>\n",
       "      <th>499092</th>\n",
       "      <td>1499103</td>\n",
       "      <td>1499103</td>\n",
       "      <td>movie reminded classic well written psychologi...</td>\n",
       "      <td>1.0</td>\n",
       "    </tr>\n",
       "    <tr>\n",
       "      <th>499093</th>\n",
       "      <td>1499104</td>\n",
       "      <td>1499104</td>\n",
       "      <td>truly obese women men feed thing deliberately ...</td>\n",
       "      <td>-1.0</td>\n",
       "    </tr>\n",
       "    <tr>\n",
       "      <th>499094</th>\n",
       "      <td>1499105</td>\n",
       "      <td>1499105</td>\n",
       "      <td>really star star originality tried stick one h...</td>\n",
       "      <td>-1.0</td>\n",
       "    </tr>\n",
       "    <tr>\n",
       "      <th>499095</th>\n",
       "      <td>1499106</td>\n",
       "      <td>1499106</td>\n",
       "      <td>strong feed strong brett leonard movie despera...</td>\n",
       "      <td>0.0</td>\n",
       "    </tr>\n",
       "  </tbody>\n",
       "</table>\n",
       "<p>499096 rows × 4 columns</p>\n",
       "</div>"
      ],
      "text/plain": [
       "        Unnamed: 0  Unnamed: 0.1  \\\n",
       "0          1000008       1000008   \n",
       "1          1000009       1000009   \n",
       "2          1000010       1000010   \n",
       "3          1000011       1000011   \n",
       "4          1000012       1000012   \n",
       "...            ...           ...   \n",
       "499091     1499102       1499102   \n",
       "499092     1499103       1499103   \n",
       "499093     1499104       1499104   \n",
       "499094     1499105       1499105   \n",
       "499095     1499106       1499106   \n",
       "\n",
       "                                                     text  score  \n",
       "0       loved ergo proxy ever since came back art extr...    1.0  \n",
       "1       one favorite series fans bladerunner ghost she...    1.0  \n",
       "2       absolutely love series watched ever since came...    1.0  \n",
       "3       spoiler free short review ergo proxy brilliant...    1.0  \n",
       "4       kick review like say really much enjoyment wat...    1.0  \n",
       "...                                                   ...    ...  \n",
       "499091  fan alex loughlin since cbs drama moonlight qu...    1.0  \n",
       "499092  movie reminded classic well written psychologi...    1.0  \n",
       "499093  truly obese women men feed thing deliberately ...   -1.0  \n",
       "499094  really star star originality tried stick one h...   -1.0  \n",
       "499095  strong feed strong brett leonard movie despera...    0.0  \n",
       "\n",
       "[499096 rows x 4 columns]"
      ]
     },
     "metadata": {},
     "execution_count": 24
    }
   ],
   "metadata": {}
  },
  {
   "cell_type": "code",
   "execution_count": 25,
   "source": [
    "x_train, x_validation, y_train, y_validation = train_test_split(trainset.text, trainset.score, test_size=0.2, random_state=1234)\r\n",
    "print(\"trainset size: {}, {} positive, {} negtive, {} neural.\".format(len(y_train),len(y_train[y_train>3]),len(y_train[y_train < 3]),len(y_train[y_train == 3])))\r\n",
    "print(\"validationset size: {}, {}positive, {} negtive, {} neural.\".format(len(y_validation),len(y_validation[y_validation>3]),len(y_validation[y_validation < 3]),len(y_validation[y_validation == 3])))"
   ],
   "outputs": [
    {
     "output_type": "stream",
     "name": "stdout",
     "text": [
      "trainset size: 399276, 0 positive, 399276 negtive, 0 neural.\n",
      "validationset size: 99820, 0positive, 99820 negtive, 0 neural.\n"
     ]
    }
   ],
   "metadata": {}
  },
  {
   "cell_type": "code",
   "execution_count": 26,
   "source": [
    "tb_sent = [TextBlob(i).sentiment.polarity for i in x_validation]\r\n",
    "for idx,x in enumerate(tb_sent):\r\n",
    "    if x < 0:\r\n",
    "        tb_sent[idx] = -1\r\n",
    "    elif x > 0:\r\n",
    "        tb_sent[idx] = 1"
   ],
   "outputs": [],
   "metadata": {}
  },
  {
   "cell_type": "code",
   "execution_count": 13,
   "source": [
    "y_validation"
   ],
   "outputs": [
    {
     "output_type": "execute_result",
     "data": {
      "text/plain": [
       "1451935   -1.0\n",
       "1393170   -1.0\n",
       "1395961   -1.0\n",
       "1362930   -1.0\n",
       "1446181    0.0\n",
       "          ... \n",
       "1092921    0.0\n",
       "1080601    0.0\n",
       "1165262   -1.0\n",
       "1053363   -1.0\n",
       "1212075   -1.0\n",
       "Name: score, Length: 99820, dtype: float64"
      ]
     },
     "metadata": {},
     "execution_count": 13
    }
   ],
   "metadata": {}
  },
  {
   "cell_type": "code",
   "execution_count": 27,
   "source": [
    "cm = confusion_matrix(y_validation, tb_sent)\r\n",
    "cm"
   ],
   "outputs": [
    {
     "output_type": "execute_result",
     "data": {
      "text/plain": [
       "array([[ 5586,   292,  7985],\n",
       "       [ 1371,    83,  8585],\n",
       "       [ 4185,   865, 70868]], dtype=int64)"
      ]
     },
     "metadata": {},
     "execution_count": 27
    }
   ],
   "metadata": {}
  },
  {
   "cell_type": "code",
   "execution_count": 38,
   "source": [
    "import seaborn as sns\r\n",
    "sns.set_context({'figure.figsize':(8,8)})\r\n",
    "ax = ['-1','0','1']\r\n",
    "sns.heatmap(cm,annot=True,fmt='d',cmap='RdBu_r',xticklabels=ax, yticklabels=ax)\r\n",
    "\r\n"
   ],
   "outputs": [
    {
     "output_type": "execute_result",
     "data": {
      "text/plain": [
       "<AxesSubplot:>"
      ]
     },
     "metadata": {},
     "execution_count": 38
    },
    {
     "output_type": "display_data",
     "data": {
      "image/png": "[encoded data removed]",
      "text/plain": [
       "<Figure size 576x576 with 2 Axes>"
      ]
     },
     "metadata": {
      "needs_background": "light"
     }
    }
   ],
   "metadata": {}
  },
  {
   "cell_type": "code",
   "execution_count": 28,
   "source": [
    "print('accuracy = {}'.format(accuracy_score(y_validation, tb_sent)))\r\n",
    "print(classification_report(y_validation, tb_sent))"
   ],
   "outputs": [
    {
     "output_type": "stream",
     "name": "stdout",
     "text": [
      "accuracy = 0.7667501502704869\n",
      "              precision    recall  f1-score   support\n",
      "\n",
      "        -1.0       0.50      0.40      0.45     13863\n",
      "         0.0       0.07      0.01      0.01     10039\n",
      "         1.0       0.81      0.93      0.87     75918\n",
      "\n",
      "    accuracy                           0.77     99820\n",
      "   macro avg       0.46      0.45      0.44     99820\n",
      "weighted avg       0.69      0.77      0.72     99820\n",
      "\n"
     ]
    }
   ],
   "metadata": {}
  },
  {
   "cell_type": "code",
   "execution_count": 39,
   "source": [
    "from sklearn.naive_bayes import MultinomialNB\r\n",
    "from sklearn.linear_model import LogisticRegression\r\n"
   ],
   "outputs": [],
   "metadata": {}
  },
  {
   "cell_type": "code",
   "execution_count": 41,
   "source": [
    "vec = CountVectorizer()\r\n",
    "clf = MultinomialNB()\r\n"
   ],
   "outputs": [],
   "metadata": {}
  },
  {
   "cell_type": "code",
   "execution_count": 44,
   "source": [
    "def word_freq(data, max_features):\r\n",
    "    count_vec = CountVectorizer(stop_words = 'english', max_feature = max_features)\r\n",
    "    count_vec.fit(data.text)\r\n",
    "    print('number of unique words:'+ str(len(count_vec.get_feature_names())))\r\n",
    "\r\n",
    "    neg_mat = count_vec.transform(data[data.score < 3].text)\r\n",
    "    pos_mat = count_vec.transform(data[data.score > 3].text)\r\n",
    "    neu_mat = count_vec.transform(data[data.score == 3].text)\r\n",
    "    neg_freq = np.squeeze(np.asarray(np.sum(neg_mat, axis=0)))\r\n",
    "    pos_freq = np.squeeze(np.asarray(np.sum(pos_mat, axis=0)))\r\n",
    "    neu_freq = np.squeeze(np.asarray(np.sum(neu_mat, axis=0)))\r\n",
    "\r\n",
    "    df_freq = pd.DataFrame([neg_freq, neu_freq, pos_freq], columns=count_vec.get_feature_names()).transpose()\r\n",
    "    df_freq.columns = ['neg','neu','pos']\r\n",
    "    df_freq['total'] = df_freq['neg'] + df_freq['neu'] + df_freq['pos']\r\n",
    "    df_freq = df_freq.sort_values('total', ascending=False)\r\n",
    "\r\n",
    "    return df_freq"
   ],
   "outputs": [],
   "metadata": {}
  },
  {
   "cell_type": "code",
   "execution_count": 52,
   "source": [
    "df_freq = pd.read_csv('df_freq.csv')\r\n",
    "# df_freq.drop(columns=['Unnamed: 0'], inplace=True)\r\n",
    "df_freq.rename(columns={'Unnamed: 0':'words'},inplace=True)"
   ],
   "outputs": [],
   "metadata": {}
  },
  {
   "cell_type": "code",
   "execution_count": 55,
   "source": [
    "# custom_stopwords = list(df_freq.head(25).words)\r\n",
    "from time import time\r\n",
    "def calc_accuracy(pipeline, X_train, X_test, y_train, y_test):\r\n",
    "    t0 = time()\r\n",
    "    sentiment_clf = pipeline.fit(X_train, y_train)\r\n",
    "    y_pred = sentiment_clf.predict(X_test)\r\n",
    "    train_test_time = time() - t0\r\n",
    "    accuracy = accuracy_score(y_test, y_pred)\r\n",
    "    fpr = dict()\r\n",
    "    tpr = dict()\r\n",
    "    roc_auc = dict()\r\n",
    "\r\n",
    "    fpr, tpr, _ = roc_curve(y_test, y_pred, pos_label=1)\r\n",
    "    roc_auc = auc(fpr, tpr)\r\n",
    "    \r\n",
    "    print(\"model accuracy : {0:.2f}\".format(accuracy))\r\n",
    "    print(\"model auc : {0:.2f}\".format(roc_auc))\r\n",
    "    print(\"train validation time : {0:.2f}s\".format(train_test_time))\r\n",
    "    print(\"=========================================================\")\r\n",
    "    \r\n",
    "    return accuracy, roc_auc, train_test_time"
   ],
   "outputs": [],
   "metadata": {}
  },
  {
   "cell_type": "code",
   "execution_count": 58,
   "source": [
    "from sklearn.pipeline import Pipeline\r\n",
    "n_features = np.arange(10000, 100001,10000)\r\n",
    "def compare_clf_nfeature(X_train, X_test, y_train, y_test, vectorizer=vec, clf=clf, n_features=n_features, stop_words=None, ngram_range = (1,1)):\r\n",
    "    res = []\r\n",
    "    print(clf)\r\n",
    "    for feature in n_features:\r\n",
    "        vectorizer.set_params(stop_words=stop_words, ngram_range=ngram_range, max_features=feature)\r\n",
    "        acc_pipeline = Pipeline([('vectorizer', vectorizer), ('classifier', clf)])\r\n",
    "        print(\"result on model with {} features\".format(feature))\r\n",
    "        accuracy, auc, time = calc_accuracy(acc_pipeline, X_train, X_test, y_train, y_test)\r\n",
    "        res.append((feature, accuracy, auc, time))\r\n",
    "        \r\n",
    "    return res"
   ],
   "outputs": [],
   "metadata": {}
  },
  {
   "cell_type": "code",
   "execution_count": 59,
   "source": [
    "results = compare_clf_nfeature(x_train, x_validation, y_train, y_validation)"
   ],
   "outputs": [
    {
     "output_type": "stream",
     "name": "stdout",
     "text": [
      "MultinomialNB()\n",
      "result on model with 10000 features\n",
      "model accuracy : 0.78\n",
      "model auc : 0.80\n",
      "train validation time : 32.62s\n",
      "=========================================================\n",
      "result on model with 20000 features\n",
      "model accuracy : 0.78\n",
      "model auc : 0.81\n",
      "train validation time : 31.67s\n",
      "=========================================================\n",
      "result on model with 30000 features\n",
      "model accuracy : 0.78\n",
      "model auc : 0.81\n",
      "train validation time : 31.71s\n",
      "=========================================================\n",
      "result on model with 40000 features\n",
      "model accuracy : 0.78\n",
      "model auc : 0.81\n",
      "train validation time : 31.87s\n",
      "=========================================================\n",
      "result on model with 50000 features\n",
      "model accuracy : 0.78\n",
      "model auc : 0.81\n",
      "train validation time : 31.91s\n",
      "=========================================================\n",
      "result on model with 60000 features\n",
      "model accuracy : 0.78\n",
      "model auc : 0.81\n",
      "train validation time : 31.97s\n",
      "=========================================================\n",
      "result on model with 70000 features\n",
      "model accuracy : 0.79\n",
      "model auc : 0.81\n",
      "train validation time : 31.96s\n",
      "=========================================================\n",
      "result on model with 80000 features\n",
      "model accuracy : 0.79\n",
      "model auc : 0.81\n",
      "train validation time : 32.05s\n",
      "=========================================================\n",
      "result on model with 90000 features\n",
      "model accuracy : 0.79\n",
      "model auc : 0.81\n",
      "train validation time : 32.05s\n",
      "=========================================================\n",
      "result on model with 100000 features\n",
      "model accuracy : 0.79\n",
      "model auc : 0.81\n",
      "train validation time : 32.13s\n",
      "=========================================================\n"
     ]
    }
   ],
   "metadata": {}
  },
  {
   "cell_type": "code",
   "execution_count": 60,
   "source": [
    "results_stop_eng = compare_clf_nfeature(x_train, x_validation, y_train, y_validation, stop_words='english')"
   ],
   "outputs": [
    {
     "output_type": "stream",
     "name": "stdout",
     "text": [
      "MultinomialNB()\n",
      "result on model with 10000 features\n",
      "model accuracy : 0.78\n",
      "model auc : 0.80\n",
      "train validation time : 32.07s\n",
      "=========================================================\n",
      "result on model with 20000 features\n",
      "model accuracy : 0.78\n",
      "model auc : 0.80\n",
      "train validation time : 32.28s\n",
      "=========================================================\n",
      "result on model with 30000 features\n",
      "model accuracy : 0.78\n",
      "model auc : 0.80\n",
      "train validation time : 32.30s\n",
      "=========================================================\n",
      "result on model with 40000 features\n",
      "model accuracy : 0.78\n",
      "model auc : 0.81\n",
      "train validation time : 32.33s\n",
      "=========================================================\n",
      "result on model with 50000 features\n",
      "model accuracy : 0.78\n",
      "model auc : 0.81\n",
      "train validation time : 32.33s\n",
      "=========================================================\n",
      "result on model with 60000 features\n",
      "model accuracy : 0.78\n",
      "model auc : 0.81\n",
      "train validation time : 32.48s\n",
      "=========================================================\n",
      "result on model with 70000 features\n",
      "model accuracy : 0.78\n",
      "model auc : 0.81\n",
      "train validation time : 32.55s\n",
      "=========================================================\n",
      "result on model with 80000 features\n",
      "model accuracy : 0.79\n",
      "model auc : 0.81\n",
      "train validation time : 32.43s\n",
      "=========================================================\n",
      "result on model with 90000 features\n",
      "model accuracy : 0.79\n",
      "model auc : 0.81\n",
      "train validation time : 32.49s\n",
      "=========================================================\n",
      "result on model with 100000 features\n",
      "model accuracy : 0.79\n",
      "model auc : 0.81\n",
      "train validation time : 32.39s\n",
      "=========================================================\n"
     ]
    }
   ],
   "metadata": {}
  },
  {
   "cell_type": "code",
   "execution_count": 61,
   "source": [
    "cols = ['n_features', 'val_acc', 'val_auc','time']\r\n",
    "results = pd.DataFrame(results,columns=cols)\r\n",
    "results_stop_eng = pd.DataFrame(results_stop_eng, columns=cols)\r\n"
   ],
   "outputs": [],
   "metadata": {}
  },
  {
   "cell_type": "code",
   "execution_count": 62,
   "source": [
    "plt.figure(figsize=(8,4))\r\n",
    "plt.plot(results.n_features, results.val_acc, label='without stopwords')\r\n",
    "plt.plot(results_stop_eng.n_features, results_stop_eng.val_acc, label='with stopwords')\r\n",
    "plt.title('comparison of model performance with and without stopwords')\r\n",
    "plt.xlabel('num of features')\r\n",
    "plt.ylabel('model validation accuracy')\r\n",
    "plt.legend()"
   ],
   "outputs": [
    {
     "output_type": "execute_result",
     "data": {
      "text/plain": [
       "<matplotlib.legend.Legend at 0x28a3b93f948>"
      ]
     },
     "metadata": {},
     "execution_count": 62
    },
    {
     "output_type": "display_data",
     "data": {
      "image/png": "[encoded data removed]",
      "text/plain": [
       "<Figure size 576x288 with 1 Axes>"
      ]
     },
     "metadata": {
      "needs_background": "light"
     }
    }
   ],
   "metadata": {}
  },
  {
   "cell_type": "code",
   "execution_count": 63,
   "source": [
    "res_bigram = compare_clf_nfeature(x_train, x_validation, y_train, y_validation, ngram_range=(1,2))"
   ],
   "outputs": [
    {
     "output_type": "stream",
     "name": "stdout",
     "text": [
      "MultinomialNB()\n",
      "result on model with 10000 features\n",
      "model accuracy : 0.78\n",
      "model auc : 0.81\n",
      "train validation time : 128.95s\n",
      "=========================================================\n",
      "result on model with 20000 features\n",
      "model accuracy : 0.78\n",
      "model auc : 0.82\n",
      "train validation time : 137.52s\n",
      "=========================================================\n",
      "result on model with 30000 features\n",
      "model accuracy : 0.78\n",
      "model auc : 0.83\n",
      "train validation time : 132.56s\n",
      "=========================================================\n",
      "result on model with 40000 features\n",
      "model accuracy : 0.78\n",
      "model auc : 0.83\n",
      "train validation time : 130.51s\n",
      "=========================================================\n",
      "result on model with 50000 features\n",
      "model accuracy : 0.78\n",
      "model auc : 0.83\n",
      "train validation time : 130.41s\n",
      "=========================================================\n",
      "result on model with 60000 features\n",
      "model accuracy : 0.79\n",
      "model auc : 0.83\n",
      "train validation time : 130.11s\n",
      "=========================================================\n",
      "result on model with 70000 features\n",
      "model accuracy : 0.79\n",
      "model auc : 0.84\n",
      "train validation time : 130.66s\n",
      "=========================================================\n",
      "result on model with 80000 features\n",
      "model accuracy : 0.79\n",
      "model auc : 0.84\n",
      "train validation time : 129.97s\n",
      "=========================================================\n",
      "result on model with 90000 features\n",
      "model accuracy : 0.79\n",
      "model auc : 0.84\n",
      "train validation time : 130.17s\n",
      "=========================================================\n",
      "result on model with 100000 features\n",
      "model accuracy : 0.79\n",
      "model auc : 0.84\n",
      "train validation time : 131.28s\n",
      "=========================================================\n"
     ]
    }
   ],
   "metadata": {}
  }
 ],
 "metadata": {
  "orig_nbformat": 4,
  "language_info": {
   "name": "python",
   "version": "3.7.9",
   "mimetype": "text/x-python",
   "codemirror_mode": {
    "name": "ipython",
    "version": 3
   },
   "pygments_lexer": "ipython3",
   "nbconvert_exporter": "python",
   "file_extension": ".py"
  },
  "kernelspec": {
   "name": "python3",
   "display_name": "Python 3.7.9 64-bit (system)"
  },
  "interpreter": {
   "hash": "e37a6a48f9304d19c34ecab5f987c6aae4abb2c1e936b508333bf36acbe97a24"
  }
 },
 "nbformat": 4,
 "nbformat_minor": 2
}