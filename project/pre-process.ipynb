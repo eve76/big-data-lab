{
 "cells": [
  {
   "cell_type": "code",
   "execution_count": 5,
   "metadata": {},
   "outputs": [
    {
     "ename": "TypeError",
     "evalue": "a bytes-like object is required, not 'str'",
     "output_type": "error",
     "traceback": [
      "\u001b[1;31m---------------------------------------------------------------------------\u001b[0m",
      "\u001b[1;31mTypeError\u001b[0m                                 Traceback (most recent call last)",
      "\u001b[1;32m<ipython-input-5-1e46c561cad1>\u001b[0m in \u001b[0;36m<module>\u001b[1;34m\u001b[0m\n\u001b[0;32m     10\u001b[0m \u001b[1;33m\u001b[0m\u001b[0m\n\u001b[0;32m     11\u001b[0m \u001b[0mw\u001b[0m \u001b[1;33m=\u001b[0m \u001b[0mcsv\u001b[0m\u001b[1;33m.\u001b[0m\u001b[0mwriter\u001b[0m\u001b[1;33m(\u001b[0m\u001b[0mout_file\u001b[0m\u001b[1;33m)\u001b[0m\u001b[1;33m\u001b[0m\u001b[1;33m\u001b[0m\u001b[0m\n\u001b[1;32m---> 12\u001b[1;33m \u001b[0mw\u001b[0m\u001b[1;33m.\u001b[0m\u001b[0mwriterow\u001b[0m\u001b[1;33m(\u001b[0m\u001b[0mcols\u001b[0m\u001b[1;33m)\u001b[0m\u001b[1;33m\u001b[0m\u001b[1;33m\u001b[0m\u001b[0m\n\u001b[0m\u001b[0;32m     13\u001b[0m \u001b[1;33m\u001b[0m\u001b[0m\n\u001b[0;32m     14\u001b[0m \u001b[1;32mdef\u001b[0m \u001b[0mwrite_row\u001b[0m\u001b[1;33m(\u001b[0m\u001b[0mdoc\u001b[0m\u001b[1;33m)\u001b[0m\u001b[1;33m:\u001b[0m\u001b[1;33m\u001b[0m\u001b[1;33m\u001b[0m\u001b[0m\n",
      "\u001b[1;31mTypeError\u001b[0m: a bytes-like object is required, not 'str'"
     ]
    }
   ],
   "source": [
    "import pandas as pd\n",
    "import csv\n",
    "\n",
    "file_path = 'E:/Downloads/movies.txt'\n",
    "out_path = 'E:/Downloads/dataset.csv'\n",
    "\n",
    "data_file = open(file_path, 'rb')\n",
    "cols = ['review_time','review_score','review_text']\n",
    "out_file = open(out_path, 'wb')\n",
    "\n",
    "w = csv.writer(out_file)\n",
    "w.writerow(cols)\n",
    "\n",
    "def write_row(doc):\n",
    "    w.writerow([doc.get(col) for col in cols])\n",
    "\n",
    "count = 0\n",
    "doc = {}\n",
    "for line in data_file:\n",
    "    line = line.strip()\n",
    "    if line == '':\n",
    "        write_row(doc)\n",
    "        doc = {}\n",
    "        count += 1\n",
    "        \n",
    "    else:\n",
    "        idx = line.find(':')\n",
    "        key, value = tuple([line[:idx],line[idx+1:]])\n",
    "        key = key.strip().replace('/','_').lower()\n",
    "        value = value.strip()\n",
    "        doc[key] = value\n",
    "\n",
    "if doc:\n",
    "    write_row(doc)\n",
    "    count += 1\n",
    "\n",
    "data_file.close()\n",
    "out_file.close()\n",
    "\n",
    "\n"
   ]
  },
  {
   "cell_type": "code",
   "execution_count": 38,
   "metadata": {},
   "outputs": [
    {
     "data": {
      "text/plain": [
       "array([\"  This is one of the best drama court room films I've ever seen.  The actors were great and convincing, and the story well written.<br /><br />Along with Inherit the Wind, and Trial at Nuremberg this is up their with the best Trials I've ever seen.  Very impressed.\"],\n",
       "      dtype=object)"
      ]
     },
     "execution_count": 38,
     "metadata": {},
     "output_type": "execute_result"
    }
   ],
   "source": [
    "text.values[-2]\n",
    "# score.value_counts"
   ]
  },
  {
   "cell_type": "code",
   "execution_count": 39,
   "metadata": {},
   "outputs": [
    {
     "data": {
      "text/plain": [
       "array([4.])"
      ]
     },
     "execution_count": 39,
     "metadata": {},
     "output_type": "execute_result"
    }
   ],
   "source": [
    "score.values[-2]"
   ]
  },
  {
   "cell_type": "code",
   "execution_count": 12,
   "metadata": {},
   "outputs": [
    {
     "name": "stdout",
     "output_type": "stream",
     "text": [
      "7911683\n"
     ]
    }
   ],
   "source": [
    "df = pd.DataFrame(score, columns=['score'])\n",
    "# df.set_index()\n",
    "df['score'] = score\n",
    "df['text'] = text\n",
    "print(len(df['text']))"
   ]
  },
  {
   "cell_type": "code",
   "execution_count": 11,
   "metadata": {},
   "outputs": [
    {
     "data": {
      "text/html": [
       "<div>\n",
       "<style scoped>\n",
       "    .dataframe tbody tr th:only-of-type {\n",
       "        vertical-align: middle;\n",
       "    }\n",
       "\n",
       "    .dataframe tbody tr th {\n",
       "        vertical-align: top;\n",
       "    }\n",
       "\n",
       "    .dataframe thead th {\n",
       "        text-align: right;\n",
       "    }\n",
       "</style>\n",
       "<table border=\"1\" class=\"dataframe\">\n",
       "  <thead>\n",
       "    <tr style=\"text-align: right;\">\n",
       "      <th></th>\n",
       "      <th>score</th>\n",
       "      <th>text</th>\n",
       "    </tr>\n",
       "  </thead>\n",
       "  <tbody>\n",
       "    <tr>\n",
       "      <th>7911673</th>\n",
       "      <td>5.0</td>\n",
       "      <td>As a listener to C2C, I was excited about thi...</td>\n",
       "    </tr>\n",
       "    <tr>\n",
       "      <th>7911674</th>\n",
       "      <td>5.0</td>\n",
       "      <td>This was a very interesting dvd, but the let ...</td>\n",
       "    </tr>\n",
       "    <tr>\n",
       "      <th>7911675</th>\n",
       "      <td>5.0</td>\n",
       "      <td>Now for the first time, this film presents th...</td>\n",
       "    </tr>\n",
       "    <tr>\n",
       "      <th>7911676</th>\n",
       "      <td>3.0</td>\n",
       "      <td>NaN</td>\n",
       "    </tr>\n",
       "    <tr>\n",
       "      <th>7911677</th>\n",
       "      <td>5.0</td>\n",
       "      <td>NaN</td>\n",
       "    </tr>\n",
       "    <tr>\n",
       "      <th>7911678</th>\n",
       "      <td>3.0</td>\n",
       "      <td>NaN</td>\n",
       "    </tr>\n",
       "    <tr>\n",
       "      <th>7911679</th>\n",
       "      <td>5.0</td>\n",
       "      <td>NaN</td>\n",
       "    </tr>\n",
       "    <tr>\n",
       "      <th>7911680</th>\n",
       "      <td>2.0</td>\n",
       "      <td>NaN</td>\n",
       "    </tr>\n",
       "    <tr>\n",
       "      <th>7911681</th>\n",
       "      <td>4.0</td>\n",
       "      <td>NaN</td>\n",
       "    </tr>\n",
       "    <tr>\n",
       "      <th>7911682</th>\n",
       "      <td>5.0</td>\n",
       "      <td>NaN</td>\n",
       "    </tr>\n",
       "  </tbody>\n",
       "</table>\n",
       "</div>"
      ],
      "text/plain": [
       "         score                                               text\n",
       "7911673    5.0   As a listener to C2C, I was excited about thi...\n",
       "7911674    5.0   This was a very interesting dvd, but the let ...\n",
       "7911675    5.0   Now for the first time, this film presents th...\n",
       "7911676    3.0                                                NaN\n",
       "7911677    5.0                                                NaN\n",
       "7911678    3.0                                                NaN\n",
       "7911679    5.0                                                NaN\n",
       "7911680    2.0                                                NaN\n",
       "7911681    4.0                                                NaN\n",
       "7911682    5.0                                                NaN"
      ]
     },
     "execution_count": 11,
     "metadata": {},
     "output_type": "execute_result"
    }
   ],
   "source": [
    "df.tail(10)"
   ]
  }
 ],
 "metadata": {
  "interpreter": {
   "hash": "e37a6a48f9304d19c34ecab5f987c6aae4abb2c1e936b508333bf36acbe97a24"
  },
  "kernelspec": {
   "display_name": "Python 3.7.9 64-bit (system)",
   "name": "python3"
  },
  "language_info": {
   "codemirror_mode": {
    "name": "ipython",
    "version": 3
   },
   "file_extension": ".py",
   "mimetype": "text/x-python",
   "name": "python",
   "nbconvert_exporter": "python",
   "pygments_lexer": "ipython3",
   "version": "3.7.9"
  },
  "orig_nbformat": 4
 },
 "nbformat": 4,
 "nbformat_minor": 2
}
